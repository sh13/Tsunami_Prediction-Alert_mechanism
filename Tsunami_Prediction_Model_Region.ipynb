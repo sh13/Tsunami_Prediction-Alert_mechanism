{
  "nbformat": 4,
  "nbformat_minor": 0,
  "metadata": {
    "colab": {
      "name": "Tsunami_Prediction_Model_Region.ipynb",
      "version": "0.3.2",
      "provenance": []
    },
    "kernelspec": {
      "name": "python3",
      "display_name": "Python 3"
    }
  },
  "cells": [
    {
      "cell_type": "code",
      "metadata": {
        "id": "fg7g6-2a4QDV",
        "colab_type": "code",
        "outputId": "2edb752f-2e25-4ea7-8114-29408df4544b",
        "colab": {
          "base_uri": "https://localhost:8080/",
          "height": 136
        }
      },
      "source": [
        "!pip install pandas_ml"
      ],
      "execution_count": 2,
      "outputs": [
        {
          "output_type": "stream",
          "text": [
            "Requirement already satisfied: pandas_ml in /usr/local/lib/python3.6/dist-packages (0.6.1)\n",
            "Requirement already satisfied: pandas>=0.19.0 in /usr/local/lib/python3.6/dist-packages (from pandas_ml) (0.24.2)\n",
            "Requirement already satisfied: enum34 in /usr/local/lib/python3.6/dist-packages (from pandas_ml) (1.1.6)\n",
            "Requirement already satisfied: pytz>=2011k in /usr/local/lib/python3.6/dist-packages (from pandas>=0.19.0->pandas_ml) (2018.9)\n",
            "Requirement already satisfied: numpy>=1.12.0 in /usr/local/lib/python3.6/dist-packages (from pandas>=0.19.0->pandas_ml) (1.16.4)\n",
            "Requirement already satisfied: python-dateutil>=2.5.0 in /usr/local/lib/python3.6/dist-packages (from pandas>=0.19.0->pandas_ml) (2.5.3)\n",
            "Requirement already satisfied: six>=1.5 in /usr/local/lib/python3.6/dist-packages (from python-dateutil>=2.5.0->pandas>=0.19.0->pandas_ml) (1.12.0)\n"
          ],
          "name": "stdout"
        }
      ]
    },
    {
      "cell_type": "code",
      "metadata": {
        "id": "YGoDLY5PeONx",
        "colab_type": "code",
        "colab": {}
      },
      "source": [
        "import numpy as np\n",
        "import pandas as pd\n",
        "import matplotlib.pyplot as plt\n",
        "import matplotlib as mp\n",
        "from sklearn.preprocessing import StandardScaler\n",
        "from sklearn.preprocessing import scale\n",
        "from sklearn import preprocessing\n",
        "import sklearn as sk\n",
        "from sklearn.decomposition import PCA"
      ],
      "execution_count": 0,
      "outputs": []
    },
    {
      "cell_type": "code",
      "metadata": {
        "id": "sWENo81Q4qVY",
        "colab_type": "code",
        "outputId": "521b64de-883c-4c49-b428-46cb102782b4",
        "colab": {
          "resources": {
            "http://localhost:8080/nbextensions/google.colab/files.js": {
              "data": "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",
              "ok": true,
              "headers": [
                [
                  "content-type",
                  "application/javascript"
                ]
              ],
              "status": 200,
              "status_text": ""
            }
          },
          "base_uri": "https://localhost:8080/",
          "height": 74
        }
      },
      "source": [
        "from google.colab import files\n",
        "uploaded=files.upload()"
      ],
      "execution_count": 4,
      "outputs": [
        {
          "output_type": "display_data",
          "data": {
            "text/html": [
              "\n",
              "     <input type=\"file\" id=\"files-1b9a749a-f387-4351-84a3-c59382ed29a8\" name=\"files[]\" multiple disabled />\n",
              "     <output id=\"result-1b9a749a-f387-4351-84a3-c59382ed29a8\">\n",
              "      Upload widget is only available when the cell has been executed in the\n",
              "      current browser session. Please rerun this cell to enable.\n",
              "      </output>\n",
              "      <script src=\"/nbextensions/google.colab/files.js\"></script> "
            ],
            "text/plain": [
              "<IPython.core.display.HTML object>"
            ]
          },
          "metadata": {
            "tags": []
          }
        },
        {
          "output_type": "stream",
          "text": [
            "Saving sources.csv to sources (1).csv\n"
          ],
          "name": "stdout"
        }
      ]
    },
    {
      "cell_type": "code",
      "metadata": {
        "id": "N6SwfLte40Wg",
        "colab_type": "code",
        "colab": {}
      },
      "source": [
        "import io\n",
        "su=pd.read_csv(io.BytesIO(uploaded['sources.csv']))"
      ],
      "execution_count": 0,
      "outputs": []
    },
    {
      "cell_type": "code",
      "metadata": {
        "id": "GycWGjGK494e",
        "colab_type": "code",
        "colab": {}
      },
      "source": [
        "dl=['COUNTRY','STATE/PROVINCE','LOCATION','LATITUDE','LONGITUDE']\n",
        "su=su.drop(dl,axis=1)"
      ],
      "execution_count": 0,
      "outputs": []
    },
    {
      "cell_type": "code",
      "metadata": {
        "id": "OG_sedEf5AoA",
        "colab_type": "code",
        "colab": {}
      },
      "source": [
        "su.fillna(0,inplace=True)"
      ],
      "execution_count": 0,
      "outputs": []
    },
    {
      "cell_type": "code",
      "metadata": {
        "id": "sDxxDgvs5jmt",
        "colab_type": "code",
        "outputId": "78a01e6f-d6f0-4927-be17-10cebf6285c5",
        "colab": {
          "base_uri": "https://localhost:8080/",
          "height": 714
        }
      },
      "source": [
        "su.astype(int).dtypes"
      ],
      "execution_count": 8,
      "outputs": [
        {
          "output_type": "execute_result",
          "data": {
            "text/plain": [
              "SOURCE_ID                     int64\n",
              "YEAR                          int64\n",
              "MONTH                         int64\n",
              "DAY                           int64\n",
              "HOUR                          int64\n",
              "MINUTE                        int64\n",
              "CAUSE                         int64\n",
              "VALIDITY                      int64\n",
              "FOCAL_DEPTH                   int64\n",
              "PRIMARY_MAGNITUDE             int64\n",
              "REGION_CODE                   int64\n",
              "MAXIMUM_HEIGHT                int64\n",
              "MAGNITUDE_ABE                 int64\n",
              "MAGNITUDE_IIDA                int64\n",
              "INTENSITY_SOLOVIEV            int64\n",
              "WARNING_STATUS                int64\n",
              "MISSING                       int64\n",
              "MISSING_ESTIMATE              int64\n",
              "INJURIES                      int64\n",
              "INJURY_ESTIMATE               int64\n",
              "FATALITIES                    int64\n",
              "FATALITY_ESTIMATE             int64\n",
              "DAMAGE_MILLIONS_DOLLARS       int64\n",
              "DAMAGE_ESTIMATE               int64\n",
              "HOUSES_DAMAGED                int64\n",
              "HOUSE_DAMAGE_ESTIMATE         int64\n",
              "HOUSES_DESTROYED              int64\n",
              "HOUSE_DESTRUCTION_ESTIMATE    int64\n",
              "ALL_MISSING                   int64\n",
              "MISSING_TOTAL                 int64\n",
              "ALL_INJURIES                  int64\n",
              "INJURY_TOTAL                  int64\n",
              "ALL_FATALITIES                int64\n",
              "FATALITY_TOTAL                int64\n",
              "ALL_DAMAGE_MILLIONS           int64\n",
              "DAMAGE_TOTAL                  int64\n",
              "ALL_HOUSES_DAMAGED            int64\n",
              "HOUSE_DAMAGE_TOTAL            int64\n",
              "ALL_HOUSES_DESTROYED          int64\n",
              "HOUSE_DESTRUCTION_TOTAL       int64\n",
              "dtype: object"
            ]
          },
          "metadata": {
            "tags": []
          },
          "execution_count": 8
        }
      ]
    },
    {
      "cell_type": "code",
      "metadata": {
        "id": "7yize4KF6hFL",
        "colab_type": "code",
        "colab": {}
      },
      "source": [
        "from sklearn.model_selection import train_test_split\n",
        "X=su.iloc[:,:-1]\n",
        "y=su['REGION_CODE']\n",
        "scale=StandardScaler()\n",
        "Xn=scale.fit_transform(X)\n",
        "pca=PCA(n_components=30)\n",
        "Xs=pca.fit_transform(Xn)\n",
        "X_train, X_test, y_train, y_test = train_test_split(Xs, y, test_size = 0.33, random_state=42)"
      ],
      "execution_count": 0,
      "outputs": []
    },
    {
      "cell_type": "code",
      "metadata": {
        "id": "Jhy62Uz26tTF",
        "colab_type": "code",
        "outputId": "d0897868-75a3-484d-a08b-5f669cb7b381",
        "colab": {
          "base_uri": "https://localhost:8080/",
          "height": 102
        }
      },
      "source": [
        "from sklearn import  linear_model\n",
        "lr = linear_model.LogisticRegression()\n",
        "lr.fit(X_train, y_train)\n",
        "print(\"Accuracy\",lr.score(X_test, y_test))"
      ],
      "execution_count": 10,
      "outputs": [
        {
          "output_type": "stream",
          "text": [
            "/usr/local/lib/python3.6/dist-packages/sklearn/linear_model/logistic.py:432: FutureWarning: Default solver will be changed to 'lbfgs' in 0.22. Specify a solver to silence this warning.\n",
            "  FutureWarning)\n",
            "/usr/local/lib/python3.6/dist-packages/sklearn/linear_model/logistic.py:469: FutureWarning: Default multi_class will be changed to 'auto' in 0.22. Specify the multi_class option to silence this warning.\n",
            "  \"this warning.\", FutureWarning)\n"
          ],
          "name": "stderr"
        },
        {
          "output_type": "stream",
          "text": [
            "Accuracy 0.5005861664712778\n"
          ],
          "name": "stdout"
        }
      ]
    },
    {
      "cell_type": "code",
      "metadata": {
        "id": "SL8Z8ABE6y_e",
        "colab_type": "code",
        "colab": {}
      },
      "source": [
        "y_predicted = np.array(lr.predict(X_test))\n",
        "y_prob1=lr.predict_proba(X_test)[:,1]\n",
        "y_prob2=lr.predict_proba(X_test)[:,2]"
      ],
      "execution_count": 0,
      "outputs": []
    },
    {
      "cell_type": "code",
      "metadata": {
        "id": "dJCujA2g8DcU",
        "colab_type": "code",
        "outputId": "1e974d2d-f321-4ab9-adf1-647cde382aec",
        "colab": {
          "base_uri": "https://localhost:8080/",
          "height": 1000
        }
      },
      "source": [
        "y_predicted = np.array(lr.predict(X_test))\n",
        "y_right = np.array(y_test)\n",
        "from pandas_ml import ConfusionMatrix\n",
        "confusion_matrix = ConfusionMatrix(y_right, y_predicted)\n",
        "print(\"Confusion matrix:\\n%s\" % confusion_matrix)\n",
        "confusion_matrix.plot(normalized=True)\n",
        "plt.show()\n",
        "confusion_matrix.print_stats()"
      ],
      "execution_count": 12,
      "outputs": [
        {
          "output_type": "stream",
          "text": [
            "/usr/local/lib/python3.6/dist-packages/sklearn/externals/six.py:31: DeprecationWarning: The module is deprecated in version 0.21 and will be removed in version 0.23 since we've dropped support for Python 2.7. Please rely on the official version of six (https://pypi.org/project/six/).\n",
            "  \"(https://pypi.org/project/six/).\", DeprecationWarning)\n",
            "/usr/local/lib/python3.6/dist-packages/pandas/core/indexing.py:1494: FutureWarning: \n",
            "Passing list-likes to .loc or [] with any missing label will raise\n",
            "KeyError in the future, you can use .reindex() as an alternative.\n",
            "\n",
            "See the documentation here:\n",
            "https://pandas.pydata.org/pandas-docs/stable/indexing.html#deprecate-loc-reindex-listlike\n",
            "  return self._getitem_tuple(key)\n"
          ],
          "name": "stderr"
        },
        {
          "output_type": "stream",
          "text": [
            "Confusion matrix:\n",
            "Predicted  0.0  30.0  40.0  50.0  60.0  ...  86.0  87.0  88.0  89.0  __all__\n",
            "Actual                                  ...                                 \n",
            "0.0          0     0     0     1     0  ...     0     0     0     0        1\n",
            "30.0         0     0     0     2     0  ...     0     0     0     0        2\n",
            "40.0         0     0     0     7     0  ...     0     0     0     0        7\n",
            "50.0         0     0     0   142     0  ...     0     0     0     0      142\n",
            "60.0         0     0     0    26    22  ...     0     1     0     0       50\n",
            "71.0         0     0     0     0     1  ...     0     0     0     0        2\n",
            "72.0         0     0     0     0     0  ...     0     0     0     0        1\n",
            "73.0         0     0     0     3     0  ...     0     1     0     0       36\n",
            "74.0         0     0     0     0     2  ...     0     0     0     0       37\n",
            "75.0         0     0     0     0     0  ...     0     0     0     0       21\n",
            "77.0         0     0     0     0     0  ...     0     0     0     0        4\n",
            "80.0         0     0     0     0     0  ...     1     1     0     0       22\n",
            "81.0         0     0     0     0     0  ...     0     0     0     0       53\n",
            "82.0         0     0     0     0     0  ...     0     0     0     0       57\n",
            "83.0         0     0     0     0     0  ...     0     0     1     0       46\n",
            "84.0         0     0     0     0     0  ...     0     0     6     2       61\n",
            "85.0         0     0     0     0     1  ...     0     1     4     4      109\n",
            "86.0         0     0     0     0     0  ...     1     1     1     6       26\n",
            "87.0         0     0     0     0     0  ...     0     4     3     5       22\n",
            "88.0         0     0     0     0     0  ...     0     0    18    29       63\n",
            "89.0         0     0     0     0     0  ...     1     0     7    71       91\n",
            "__all__      0     0     0   181    26  ...     3     9    40   117      853\n",
            "\n",
            "[22 rows x 22 columns]\n"
          ],
          "name": "stdout"
        },
        {
          "output_type": "display_data",
          "data": {
            "image/png": "[encoded data removed]",
            "text/plain": [
              "<Figure size 648x576 with 2 Axes>"
            ]
          },
          "metadata": {
            "tags": []
          }
        },
        {
          "output_type": "stream",
          "text": [
            "/usr/local/lib/python3.6/dist-packages/pandas_ml/confusion_matrix/stats.py:60: FutureWarning: supplying multiple axes to axis is deprecated and will be removed in a future version.\n",
            "  num = df[df > 1].dropna(axis=[0, 1], thresh=1).applymap(lambda n: choose(n, 2)).sum().sum() - np.float64(nis2 * njs2) / n2\n",
            "/usr/local/lib/python3.6/dist-packages/pandas_ml/confusion_matrix/bcm.py:236: RuntimeWarning: invalid value encountered in double_scalars\n",
            "  return(np.float64(self.TP) / self.PositiveTest)\n",
            "/usr/local/lib/python3.6/dist-packages/pandas_ml/confusion_matrix/bcm.py:267: RuntimeWarning: invalid value encountered in double_scalars\n",
            "  return(np.float64(self.FP) / self.PositiveTest)\n",
            "/usr/local/lib/python3.6/dist-packages/pandas_ml/confusion_matrix/bcm.py:302: RuntimeWarning: invalid value encountered in true_divide\n",
            "  * (self.TN + self.FP) * (self.TN + self.FN)))\n",
            "/usr/local/lib/python3.6/dist-packages/pandas_ml/confusion_matrix/bcm.py:330: RuntimeWarning: invalid value encountered in double_scalars\n",
            "  return(np.float64(self.TPR) / self.FPR)\n",
            "/usr/local/lib/python3.6/dist-packages/pandas_ml/confusion_matrix/bcm.py:344: RuntimeWarning: divide by zero encountered in double_scalars\n",
            "  return(np.float64(self.LRP) / self.LRN)\n"
          ],
          "name": "stderr"
        },
        {
          "output_type": "stream",
          "text": [
            "Confusion Matrix:\n",
            "\n",
            "Predicted  0.0  30.0  40.0  50.0  60.0  ...  86.0  87.0  88.0  89.0  __all__\n",
            "Actual                                  ...                                 \n",
            "0.0          0     0     0     1     0  ...     0     0     0     0        1\n",
            "30.0         0     0     0     2     0  ...     0     0     0     0        2\n",
            "40.0         0     0     0     7     0  ...     0     0     0     0        7\n",
            "50.0         0     0     0   142     0  ...     0     0     0     0      142\n",
            "60.0         0     0     0    26    22  ...     0     1     0     0       50\n",
            "71.0         0     0     0     0     1  ...     0     0     0     0        2\n",
            "72.0         0     0     0     0     0  ...     0     0     0     0        1\n",
            "73.0         0     0     0     3     0  ...     0     1     0     0       36\n",
            "74.0         0     0     0     0     2  ...     0     0     0     0       37\n",
            "75.0         0     0     0     0     0  ...     0     0     0     0       21\n",
            "77.0         0     0     0     0     0  ...     0     0     0     0        4\n",
            "80.0         0     0     0     0     0  ...     1     1     0     0       22\n",
            "81.0         0     0     0     0     0  ...     0     0     0     0       53\n",
            "82.0         0     0     0     0     0  ...     0     0     0     0       57\n",
            "83.0         0     0     0     0     0  ...     0     0     1     0       46\n",
            "84.0         0     0     0     0     0  ...     0     0     6     2       61\n",
            "85.0         0     0     0     0     1  ...     0     1     4     4      109\n",
            "86.0         0     0     0     0     0  ...     1     1     1     6       26\n",
            "87.0         0     0     0     0     0  ...     0     4     3     5       22\n",
            "88.0         0     0     0     0     0  ...     0     0    18    29       63\n",
            "89.0         0     0     0     0     0  ...     1     0     7    71       91\n",
            "__all__      0     0     0   181    26  ...     3     9    40   117      853\n",
            "\n",
            "[22 rows x 22 columns]\n",
            "\n",
            "\n",
            "Overall Statistics:\n",
            "\n",
            "Accuracy: 0.5005861664712778\n",
            "95% CI: (0.46649360070452606, 0.5346746699740443)\n",
            "No Information Rate: ToDo\n",
            "P-Value [Acc > NIR]: 1.2181337587717196e-49\n",
            "Kappa: 0.44148278851296935\n",
            "Mcnemar's Test P-Value: ToDo\n",
            "\n",
            "\n",
            "Class Statistics:\n",
            "\n",
            "Classes                                      0.0   ...       89.0\n",
            "Population                                    853  ...        853\n",
            "P: Condition positive                           1  ...         91\n",
            "N: Condition negative                         852  ...        762\n",
            "Test outcome positive                           0  ...        117\n",
            "Test outcome negative                         853  ...        736\n",
            "TP: True Positive                               0  ...         71\n",
            "TN: True Negative                             852  ...        716\n",
            "FP: False Positive                              0  ...         46\n",
            "FN: False Negative                              1  ...         20\n",
            "TPR: (Sensitivity, hit rate, recall)            0  ...    0.78022\n",
            "TNR=SPC: (Specificity)                          1  ...   0.939633\n",
            "PPV: Pos Pred Value (Precision)               NaN  ...   0.606838\n",
            "NPV: Neg Pred Value                      0.998828  ...   0.972826\n",
            "FPR: False-out                                  0  ...  0.0603675\n",
            "FDR: False Discovery Rate                     NaN  ...   0.393162\n",
            "FNR: Miss Rate                                  1  ...    0.21978\n",
            "ACC: Accuracy                            0.998828  ...   0.922626\n",
            "F1 score                                        0  ...   0.682692\n",
            "MCC: Matthews correlation coefficient         NaN  ...   0.645966\n",
            "Informedness                                    0  ...   0.719852\n",
            "Markedness                                    NaN  ...   0.579664\n",
            "Prevalence                             0.00117233  ...   0.106682\n",
            "LR+: Positive likelihood ratio                NaN  ...    12.9245\n",
            "LR-: Negative likelihood ratio                  1  ...     0.2339\n",
            "DOR: Diagnostic odds ratio                    NaN  ...    55.2565\n",
            "FOR: False omission rate               0.00117233  ...  0.0271739\n",
            "\n",
            "[26 rows x 21 columns]\n"
          ],
          "name": "stdout"
        }
      ]
    },
    {
      "cell_type": "code",
      "metadata": {
        "id": "yTM9xqCk9by1",
        "colab_type": "code",
        "outputId": "fc3d254a-f086-43f9-f3cb-6af2bad35b9c",
        "colab": {
          "base_uri": "https://localhost:8080/",
          "height": 51
        }
      },
      "source": [
        "from sklearn.metrics import mean_absolute_error\n",
        "from sklearn.metrics import mean_squared_error\n",
        "ans=mean_absolute_error(y_test,y_predicted)\n",
        "ans1=mean_squared_error(y_test,y_predicted)\n",
        "print(\"Mean Absolute Error Is:\",ans)\n",
        "print(\"Mean Squared Error Is:\",ans1)"
      ],
      "execution_count": 13,
      "outputs": [
        {
          "output_type": "stream",
          "text": [
            "Mean Absolute Error Is: 2.0844079718640094\n",
            "Mean Squared Error Is: 19.957796014067995\n"
          ],
          "name": "stdout"
        }
      ]
    },
    {
      "cell_type": "code",
      "metadata": {
        "id": "3jnVIOzw9-xp",
        "colab_type": "code",
        "outputId": "c246a4bb-4c9c-4507-bad9-f201db9871dd",
        "colab": {
          "base_uri": "https://localhost:8080/",
          "height": 527
        }
      },
      "source": [
        "#classification report\n",
        "from sklearn.metrics import classification_report\n",
        "print(classification_report(y_test,y_predicted))"
      ],
      "execution_count": 14,
      "outputs": [
        {
          "output_type": "stream",
          "text": [
            "              precision    recall  f1-score   support\n",
            "\n",
            "         0.0       0.00      0.00      0.00         1\n",
            "        30.0       0.00      0.00      0.00         2\n",
            "        40.0       0.00      0.00      0.00         7\n",
            "        50.0       0.78      1.00      0.88       142\n",
            "        60.0       0.85      0.44      0.58        50\n",
            "        71.0       0.00      0.00      0.00         2\n",
            "        72.0       0.00      0.00      0.00         1\n",
            "        73.0       0.24      0.22      0.23        36\n",
            "        74.0       0.33      0.19      0.24        37\n",
            "        75.0       0.41      0.33      0.37        21\n",
            "        77.0       0.00      0.00      0.00         4\n",
            "        80.0       0.80      0.18      0.30        22\n",
            "        81.0       0.32      0.34      0.33        53\n",
            "        82.0       0.46      0.39      0.42        57\n",
            "        83.0       0.21      0.13      0.16        46\n",
            "        84.0       0.33      0.23      0.27        61\n",
            "        85.0       0.37      0.76      0.50       109\n",
            "        86.0       0.33      0.04      0.07        26\n",
            "        87.0       0.44      0.18      0.26        22\n",
            "        88.0       0.45      0.29      0.35        63\n",
            "        89.0       0.61      0.78      0.68        91\n",
            "\n",
            "    accuracy                           0.50       853\n",
            "   macro avg       0.33      0.26      0.27       853\n",
            "weighted avg       0.49      0.50      0.46       853\n",
            "\n"
          ],
          "name": "stdout"
        },
        {
          "output_type": "stream",
          "text": [
            "/usr/local/lib/python3.6/dist-packages/sklearn/metrics/classification.py:1437: UndefinedMetricWarning: Precision and F-score are ill-defined and being set to 0.0 in labels with no predicted samples.\n",
            "  'precision', 'predicted', average, warn_for)\n"
          ],
          "name": "stderr"
        }
      ]
    },
    {
      "cell_type": "code",
      "metadata": {
        "id": "3tHado7m-Sul",
        "colab_type": "code",
        "colab": {}
      },
      "source": [
        "regions = {77:'West Coast of Africa',\n",
        "            78:'Central Africa',\n",
        "            73:'Northeast Atlantic Ocean',\n",
        "            72:'Northwest Atlantic Ocean',\n",
        "            70:'Southeast Atlantic Ocean',\n",
        "            71:'Southwest Atlantic Ocean',\n",
        "            75:'E. Coast USA and Canada, St Pierre and Miquelon',\n",
        "            76:'Gulf of Mexico',\n",
        "            74:'Caribbean Sea',\n",
        "            40:'Black Sea and Caspian Sea',\n",
        "            50:'Mediterranean Sea',\n",
        "            30:'Red Sea and Persian Gulf',\n",
        "            60:'Indian Ocean (including west coast of Australia)',\n",
        "            87:'Alaska (including Aleutian Islands)',\n",
        "            84:'China, North and South Korea, Philippines, Taiwan',\n",
        "            81:'E. Coast Australia, New Zealand, South Pacific Is.',\n",
        "            80:'Hawaii, Johnston Atoll, Midway I',\n",
        "            83:'E. Indonesia (Pacific Ocean) and Malaysia',\n",
        "            82:'New Caledonia, New Guinea, Solomon Is., Vanuatu',\n",
        "            86:'Kamchatka and Kuril Islands',\n",
        "            85:'Japan',\n",
        "            88:'West Coast of North and Central America',\n",
        "            89:'West Coast of South America'}\n",
        "\n",
        "\n",
        "su['REGIONS'] = su['REGION_CODE'].map(regions)\n",
        "su['REGIONS_FRECUENCY']=su.groupby(su.REGIONS)['REGIONS'].transform('count')"
      ],
      "execution_count": 0,
      "outputs": []
    },
    {
      "cell_type": "code",
      "metadata": {
        "id": "Gxhjp42Fg9y0",
        "colab_type": "code",
        "outputId": "45fc7060-2340-443b-e19a-cc38e4bb6dd9",
        "colab": {
          "base_uri": "https://localhost:8080/",
          "height": 34
        }
      },
      "source": [
        "ans=[]\n",
        "for i in range(len(y_predicted)):\n",
        "  ans.append(regions[y_predicted[i]])\n",
        "print(max(y_predicted),max(ans))"
      ],
      "execution_count": 21,
      "outputs": [
        {
          "output_type": "stream",
          "text": [
            "89.0 West Coast of South America\n"
          ],
          "name": "stdout"
        }
      ]
    },
    {
      "cell_type": "code",
      "metadata": {
        "id": "4ggkQ2XWhrP-",
        "colab_type": "code",
        "colab": {}
      },
      "source": [
        ""
      ],
      "execution_count": 0,
      "outputs": []
    }
  ]
}